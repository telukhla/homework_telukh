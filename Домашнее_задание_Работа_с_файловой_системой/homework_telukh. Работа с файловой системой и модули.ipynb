{
 "cells": [
  {
   "cell_type": "code",
   "execution_count": null,
   "metadata": {},
   "outputs": [],
   "source": [
    "import json\n",
    "\n",
    "with open('purchase_log.txt', 'r', encoding = 'utf-8') as f:\n",
    "    purchases = {}\n",
    "    \n",
    "    # пропускаем первую строчку\n",
    "    f.readline()\n",
    "    \n",
    "    # переводим содержимое файла в словарь, используя json.loads, дальше записываем в словарь purchases значения\n",
    "    for line in f:\n",
    "        dict_ = json.loads(line.strip())\n",
    "        purchases.setdefault(dict_.get('user_id'),dict_.get('category'))\n",
    "\n",
    "        \n",
    "with open('visit_log.csv', 'r', encoding = 'utf-8') as f:\n",
    "    with open('funnel.csv', 'w') as f2write:\n",
    "        for line in f:\n",
    "            line_2 = line.strip().split(',')\n",
    "            \n",
    "            # проверяем, были ли у пользователя из visits покупки из словаря purchases, если были, то \n",
    "            # вставляем в список из визитов значения категории и записываем в файл\n",
    "            for key, value in purchases.items():\n",
    "                line_temp = ''\n",
    "                if line_2[0] == key:\n",
    "                    line_2.append(value)\n",
    "                    line_temp = ','.join(line_2) \n",
    "                    f2write.write(f'{line_temp}\\n')\n"
   ]
  }
 ],
 "metadata": {
  "kernelspec": {
   "display_name": "Python 3",
   "language": "python",
   "name": "python3"
  },
  "language_info": {
   "codemirror_mode": {
    "name": "ipython",
    "version": 3
   },
   "file_extension": ".py",
   "mimetype": "text/x-python",
   "name": "python",
   "nbconvert_exporter": "python",
   "pygments_lexer": "ipython3",
   "version": "3.8.3"
  }
 },
 "nbformat": 4,
 "nbformat_minor": 4
}
