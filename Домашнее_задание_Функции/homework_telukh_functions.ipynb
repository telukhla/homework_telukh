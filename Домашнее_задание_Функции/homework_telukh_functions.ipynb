{
 "cells": [
  {
   "cell_type": "code",
   "execution_count": 258,
   "metadata": {},
   "outputs": [],
   "source": [
    "documents = [\n",
    " {'type': 'passport', 'number': '2207 876234', 'name': 'Василий Гупкин'},\n",
    " {'type': 'invoice', 'number': '11-2', 'name': 'Геннадий Покемонов'},\n",
    " {'type': 'insurance', 'number': '10006', 'name': 'Аристарх Павлов'}\n",
    "]\n",
    "\n",
    "directories = {\n",
    " '1': ['2207 876234', '11-2'],\n",
    " '2': ['10006'],\n",
    " '3': []\n",
    "}"
   ]
  },
  {
   "cell_type": "code",
   "execution_count": 101,
   "metadata": {},
   "outputs": [],
   "source": [
    "# функция позволяет узнать владельца документа по его номеру\n",
    "\n",
    "def document_owner(user_input_number):    \n",
    "    owner = ''\n",
    "    \n",
    "    for i in documents:\n",
    "        if i['number'] == user_input_number:  \n",
    "            owner = i['name']\n",
    "    \n",
    "    return owner"
   ]
  },
  {
   "cell_type": "code",
   "execution_count": 102,
   "metadata": {},
   "outputs": [],
   "source": [
    "# функция позволяет по номеру документа узнать на какой полке он хранится\n",
    "\n",
    "def storage(user_input_number): \n",
    "    shelf = ''\n",
    "    \n",
    "    for i, k in directories.items():\n",
    "        if user_input_number in k:\n",
    "            shelf = i\n",
    "            \n",
    "    return shelf"
   ]
  },
  {
   "cell_type": "code",
   "execution_count": 157,
   "metadata": {},
   "outputs": [],
   "source": [
    "# функция позволяет увидеть полную информацию по всем документам\n",
    "\n",
    "def all_documents(): \n",
    "    for i in documents:\n",
    "        print(f'№ ', i['number'], ', тип: ', i['type'], ', владелец: ', document_owner(i['number']), ', полка хранения: ', storage(i['number']))"
   ]
  },
  {
   "cell_type": "code",
   "execution_count": 158,
   "metadata": {},
   "outputs": [],
   "source": [
    "# функция печатает все полки\n",
    "\n",
    "def shelves():\n",
    "    return ''.join(str(key) + ', ' for key in directories.keys())"
   ]
  },
  {
   "cell_type": "code",
   "execution_count": 159,
   "metadata": {},
   "outputs": [],
   "source": [
    "# функция позволяет добавить новую полку\n",
    "\n",
    "def add_shelf(user_input_number):\n",
    "    if user_input_number in directories:\n",
    "        print('Такая полка уже существует. Текущий перечень полок:', shelves())\n",
    "    else:\n",
    "        directories[user_input_number] = []\n",
    "        print('Полка добавлена. Текущий перечень полок: ', shelves())"
   ]
  },
  {
   "cell_type": "code",
   "execution_count": 150,
   "metadata": {},
   "outputs": [],
   "source": [
    "# функция позволяет удалить существующую полку из данных (только если она пустая)¶\n",
    "\n",
    "def delete_shelf(user_input_number):\n",
    "\n",
    "    control = False\n",
    "    control_2 = False\n",
    "    \n",
    "    for key in directories.keys():\n",
    "        if key == user_input_number:\n",
    "            control_2 = True\n",
    "            if directories[user_input_number] == []:\n",
    "                control = True\n",
    "            else:\n",
    "                print('На полке есть документы, удалите их перед удалением полки. Текущий перечень полок: ', shelves())\n",
    "    \n",
    "    if control == True:\n",
    "        del directories[user_input_number]\n",
    "        print('Полка удалена. Текущий перечень полок: ', shelves())\n",
    "        \n",
    "            \n",
    "    if control_2 == False:\n",
    "        print('Такой полки не существует. Текущий перечень полок: ', shelves())"
   ]
  },
  {
   "cell_type": "code",
   "execution_count": 174,
   "metadata": {},
   "outputs": [],
   "source": [
    "# функция позволяет добавить новый документ в данные\n",
    "\n",
    "def add_document(input_document_number, input_document_type, input_document_owner, input_document_shelf):\n",
    "    if {'type': input_document_type, 'number': input_document_number, 'name': input_document_owner} in documents:\n",
    "        print('Такой документ существует. Попробуйте добавить другой документ')\n",
    "    else:\n",
    "        if input_document_shelf not in directories.keys():\n",
    "            print ('Такой полки не существует. Добавьте полку командой ads.')\n",
    "        else: \n",
    "            documents.append({'type': input_document_type, 'number': input_document_number, 'name': input_document_owner})\n",
    "            directories[input_document_shelf] += [input_document_number]\n",
    "            print('Документ добавлен. Текущий список документов:')\n",
    "    \n",
    "    all_documents()"
   ]
  },
  {
   "cell_type": "code",
   "execution_count": 251,
   "metadata": {},
   "outputs": [],
   "source": [
    "# функция позволяет удалить документ из данных\n",
    "\n",
    "def delete_document(user_input_document):\n",
    "    \n",
    "    key = 0\n",
    "    control = False\n",
    "    \n",
    "    for i, document in enumerate(documents):\n",
    "        if document['number'] == user_input_document:\n",
    "            key = i\n",
    "            control = True\n",
    "    \n",
    "    if control == False:\n",
    "        print('Документ не найден в базе.')\n",
    "    else:\n",
    "   #     удаляем из списка документов\n",
    "        del(documents[key])\n",
    "   # удаляем с полки \n",
    "        for value in directories.values():\n",
    "            if user_input_document in value:\n",
    "                value.remove(user_input_document)\n",
    "                \n",
    "        print('Документ удален.')\n",
    "        \n",
    "    print('Текущий список документов:')\n",
    "    all_documents()"
   ]
  },
  {
   "cell_type": "code",
   "execution_count": 234,
   "metadata": {},
   "outputs": [],
   "source": [
    "# функция позволяет переместить документ с полки на полку\n",
    "\n",
    "def move_document(input_document_number, input_document_shelf):\n",
    "    key = 0\n",
    "    control = False\n",
    "    control_2 = False\n",
    "    temp = {}\n",
    "    \n",
    "    for i, document in enumerate(documents):\n",
    "        if document['number'] == input_document_number:\n",
    "            key = i\n",
    "            control = True\n",
    "            temp = {'type': document['type'], 'number': document['number'], 'name': document['name']}\n",
    "    \n",
    "    for key in directories.keys():\n",
    "        if key == input_document_shelf:\n",
    "            control_2 = True\n",
    "    \n",
    "    if control == False:\n",
    "        print('Документ не найден в базе.')\n",
    "        print('Текущий список документов:')\n",
    "        all_documents()\n",
    "\n",
    "            \n",
    "    if control_2 == False:\n",
    "        print('Такой полки не существует. Текущий перечень полок: ', shelves())\n",
    "    else:\n",
    "        for value in directories.values():\n",
    "            if input_document_number in value:\n",
    "                value.remove(input_document_number)\n",
    "        directories[input_document_shelf] += [input_document_number]\n",
    "        print('Результат:')\n",
    "        print('Документ перемещен')\n",
    "        all_documents()"
   ]
  },
  {
   "cell_type": "code",
   "execution_count": 201,
   "metadata": {},
   "outputs": [],
   "source": [
    "# основная функция с командами\n",
    "\n",
    "def main():\n",
    "    while True:\n",
    "        user_input = input('Введите команду: ')\n",
    "        \n",
    "        if user_input == 'p':\n",
    "            user_input_number = input('Введите номер документа: ')          \n",
    "            owner = document_owner(user_input_number)\n",
    "            print('Результат:')\n",
    "            if owner != '':\n",
    "                print(f'Владелец документа:', owner)\n",
    "            else:\n",
    "                print('Документ не найден в базе')\n",
    "        elif user_input == 's':\n",
    "            user_input_number = input('Введите номер документа: ')\n",
    "            shelf = storage(user_input_number)\n",
    "            print('Результат:')\n",
    "            if shelf != '':\n",
    "                print(f'Документ хранится на полке:', shelf)\n",
    "            else:\n",
    "                print('Документ не найден в базе')\n",
    "        elif user_input == 'l':\n",
    "            print('Результат:')\n",
    "            all_documents()\n",
    "        elif user_input == 'ads':\n",
    "            user_input_number = input('Введите номер полки: ')\n",
    "            print('Результат:')\n",
    "            add_shelf(user_input_number)\n",
    "        elif user_input == 'ds':\n",
    "            user_input_number = input('Введите номер полки: ')\n",
    "            print('Результат:')\n",
    "            delete_shelf(user_input_number)   \n",
    "        elif user_input == 'ad':\n",
    "            input_document_number = input('Введите номер документа: ')\n",
    "            input_document_type = input('Введите тип документа: ')\n",
    "            input_document_owner = input('Введите владельца документа: ')\n",
    "            input_document_shelf = input('Введите полку для хранения: ')\n",
    "            add_document(input_document_number, input_document_type, input_document_owner, input_document_shelf)\n",
    "        elif user_input == 'd':\n",
    "            user_input_number = input('Введите номер документа: ')\n",
    "            delete_document(user_input_number)\n",
    "        elif user_input == 'm':\n",
    "            input_document_number = input('Введите номер документа: ')\n",
    "            input_document_shelf = input('Введите номер полки: ')\n",
    "            move_document(input_document_number, input_document_shelf)\n",
    "        elif user_input == 'q':\n",
    "            break\n",
    "        "
   ]
  },
  {
   "cell_type": "code",
   "execution_count": 255,
   "metadata": {},
   "outputs": [
    {
     "name": "stdout",
     "output_type": "stream",
     "text": [
      "Введите команду: d\n",
      "Введите номер документа: 11-2\n",
      "Документ удален.\n",
      "Текущий список документов:\n",
      "№  2207 876234 , тип:  passport , владелец:  Василий Гупкин , полка хранения:  1\n",
      "№  10006 , тип:  insurance , владелец:  Аристарх Павлов , полка хранения:  2\n",
      "Введите команду: q\n"
     ]
    }
   ],
   "source": [
    "main()"
   ]
  },
  {
   "cell_type": "code",
   "execution_count": 257,
   "metadata": {},
   "outputs": [
    {
     "name": "stdout",
     "output_type": "stream",
     "text": [
      "[{'type': 'passport', 'number': '2207 876234', 'name': 'Василий Гупкин'}, {'type': 'insurance', 'number': '10006', 'name': 'Аристарх Павлов'}]\n"
     ]
    }
   ],
   "source": [
    "print(documents)"
   ]
  },
  {
   "cell_type": "code",
   "execution_count": 256,
   "metadata": {},
   "outputs": [
    {
     "name": "stdout",
     "output_type": "stream",
     "text": [
      "{'1': ['2207 876234'], '2': ['10006'], '3': []}\n"
     ]
    }
   ],
   "source": [
    "print(directories)"
   ]
  },
  {
   "cell_type": "code",
   "execution_count": null,
   "metadata": {},
   "outputs": [],
   "source": []
  }
 ],
 "metadata": {
  "kernelspec": {
   "display_name": "Python 3",
   "language": "python",
   "name": "python3"
  },
  "language_info": {
   "codemirror_mode": {
    "name": "ipython",
    "version": 3
   },
   "file_extension": ".py",
   "mimetype": "text/x-python",
   "name": "python",
   "nbconvert_exporter": "python",
   "pygments_lexer": "ipython3",
   "version": "3.8.3"
  }
 },
 "nbformat": 4,
 "nbformat_minor": 4
}
