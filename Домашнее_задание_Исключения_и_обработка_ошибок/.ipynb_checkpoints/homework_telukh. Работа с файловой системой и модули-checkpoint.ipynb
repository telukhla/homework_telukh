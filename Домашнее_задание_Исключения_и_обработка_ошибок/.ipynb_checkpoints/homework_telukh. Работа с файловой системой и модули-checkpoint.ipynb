{
 "cells": [
  {
   "cell_type": "code",
   "execution_count": 1,
   "metadata": {},
   "outputs": [
    {
     "ename": "FileNotFoundError",
     "evalue": "[Errno 2] No such file or directory: 'purchase_log.txt'",
     "output_type": "error",
     "traceback": [
      "\u001b[0;31m---------------------------------------------------------------------------\u001b[0m",
      "\u001b[0;31mFileNotFoundError\u001b[0m                         Traceback (most recent call last)",
      "\u001b[0;32m<ipython-input-1-5ac48ebbc056>\u001b[0m in \u001b[0;36m<module>\u001b[0;34m\u001b[0m\n\u001b[1;32m      1\u001b[0m \u001b[0;32mimport\u001b[0m \u001b[0mjson\u001b[0m\u001b[0;34m\u001b[0m\u001b[0;34m\u001b[0m\u001b[0m\n\u001b[1;32m      2\u001b[0m \u001b[0;34m\u001b[0m\u001b[0m\n\u001b[0;32m----> 3\u001b[0;31m \u001b[0;32mwith\u001b[0m \u001b[0mopen\u001b[0m\u001b[0;34m(\u001b[0m\u001b[0;34m'purchase_log.txt'\u001b[0m\u001b[0;34m,\u001b[0m \u001b[0;34m'r'\u001b[0m\u001b[0;34m,\u001b[0m \u001b[0mencoding\u001b[0m \u001b[0;34m=\u001b[0m \u001b[0;34m'utf-8'\u001b[0m\u001b[0;34m)\u001b[0m \u001b[0;32mas\u001b[0m \u001b[0mf\u001b[0m\u001b[0;34m:\u001b[0m\u001b[0;34m\u001b[0m\u001b[0;34m\u001b[0m\u001b[0m\n\u001b[0m\u001b[1;32m      4\u001b[0m     \u001b[0mpurchases\u001b[0m \u001b[0;34m=\u001b[0m \u001b[0;34m{\u001b[0m\u001b[0;34m}\u001b[0m\u001b[0;34m\u001b[0m\u001b[0;34m\u001b[0m\u001b[0m\n\u001b[1;32m      5\u001b[0m \u001b[0;34m\u001b[0m\u001b[0m\n",
      "\u001b[0;31mFileNotFoundError\u001b[0m: [Errno 2] No such file or directory: 'purchase_log.txt'"
     ]
    }
   ],
   "source": [
    "import json\n",
    "\n",
    "with open('purchase_log.txt', 'r', encoding = 'utf-8') as f:\n",
    "    purchases = {}\n",
    "    \n",
    "    # пропускаем первую строчку\n",
    "    f.readline()\n",
    "    \n",
    "    # переводим содержимое файла в словарь, используя json.loads, дальше записываем в словарь purchases значения\n",
    "    for line in f:\n",
    "        dict_ = json.loads(line.strip())\n",
    "        purchases.setdefault(dict_.get('user_id'),dict_.get('category'))\n",
    "\n",
    "        \n",
    "with open('visit_log.csv', 'r', encoding = 'utf-8') as f:\n",
    "    with open('funnel.csv', 'w') as f2write:\n",
    "        for line in f:\n",
    "            line_2 = line.strip().split(',')\n",
    "            \n",
    "            # проверяем, были ли у пользователя из visits покупки из словаря purchases, если были, то \n",
    "            # вставляем в список из визитов значения категории и записываем в файл\n",
    "            for key, value in purchases.items():\n",
    "                line_temp = ''\n",
    "                if line_2[0] == key:\n",
    "                    line_2.append(value)\n",
    "                    line_temp = ','.join(line_2) \n",
    "                    f2write.write(f'{line_temp}\\n')\n",
    "                    \n",
    "    f2write.close()\n"
   ]
  },
  {
   "cell_type": "code",
   "execution_count": null,
   "metadata": {},
   "outputs": [],
   "source": []
  }
 ],
 "metadata": {
  "kernelspec": {
   "display_name": "Python 3",
   "language": "python",
   "name": "python3"
  },
  "language_info": {
   "codemirror_mode": {
    "name": "ipython",
    "version": 3
   },
   "file_extension": ".py",
   "mimetype": "text/x-python",
   "name": "python",
   "nbconvert_exporter": "python",
   "pygments_lexer": "ipython3",
   "version": "3.8.3"
  }
 },
 "nbformat": 4,
 "nbformat_minor": 4
}
