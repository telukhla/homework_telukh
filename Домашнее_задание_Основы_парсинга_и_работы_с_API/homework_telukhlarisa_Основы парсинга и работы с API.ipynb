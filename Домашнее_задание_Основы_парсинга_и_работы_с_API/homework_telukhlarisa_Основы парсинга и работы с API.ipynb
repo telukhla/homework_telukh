{
 "cells": [
  {
   "cell_type": "code",
   "execution_count": null,
   "metadata": {},
   "outputs": [],
   "source": [
    "import requests"
   ]
  },
  {
   "cell_type": "code",
   "execution_count": 41,
   "metadata": {},
   "outputs": [],
   "source": [
    "from bs4 import BeautifulSoup"
   ]
  },
  {
   "cell_type": "code",
   "execution_count": null,
   "metadata": {},
   "outputs": [],
   "source": [
    "import pandas as pd"
   ]
  },
  {
   "cell_type": "code",
   "execution_count": null,
   "metadata": {},
   "outputs": [],
   "source": []
  },
  {
   "cell_type": "markdown",
   "metadata": {},
   "source": [
    "# Задание 1"
   ]
  },
  {
   "cell_type": "code",
   "execution_count": 39,
   "metadata": {},
   "outputs": [],
   "source": [
    "KEYWORDS = ['python', 'парсинг', 'iOS', 'разработка']"
   ]
  },
  {
   "cell_type": "code",
   "execution_count": 43,
   "metadata": {},
   "outputs": [],
   "source": [
    "req = requests.get('https://habr.com/ru/all/')\n",
    "soup = BeautifulSoup(req.text, 'html.parser')"
   ]
  },
  {
   "cell_type": "code",
   "execution_count": 44,
   "metadata": {},
   "outputs": [],
   "source": [
    "# извлекаем посты\n",
    "\n",
    "posts = soup.find_all('article', class_='post')\n",
    "# posts"
   ]
  },
  {
   "cell_type": "code",
   "execution_count": 45,
   "metadata": {},
   "outputs": [
    {
     "data": {
      "text/html": [
       "<div>\n",
       "<style scoped>\n",
       "    .dataframe tbody tr th:only-of-type {\n",
       "        vertical-align: middle;\n",
       "    }\n",
       "\n",
       "    .dataframe tbody tr th {\n",
       "        vertical-align: top;\n",
       "    }\n",
       "\n",
       "    .dataframe thead th {\n",
       "        text-align: right;\n",
       "    }\n",
       "</style>\n",
       "<table border=\"1\" class=\"dataframe\">\n",
       "  <thead>\n",
       "    <tr style=\"text-align: right;\">\n",
       "      <th></th>\n",
       "    </tr>\n",
       "  </thead>\n",
       "  <tbody>\n",
       "  </tbody>\n",
       "</table>\n",
       "</div>"
      ],
      "text/plain": [
       "Empty DataFrame\n",
       "Columns: []\n",
       "Index: []"
      ]
     },
     "execution_count": 45,
     "metadata": {},
     "output_type": "execute_result"
    }
   ],
   "source": [
    "\n",
    "habr_articles = pd.DataFrame()\n",
    "\n",
    "for post in posts:\n",
    "    post_id = post.parent.attrs.get('id')\n",
    "    \n",
    "   # если идентификатор не найден, это что-то странное, пропускаем\n",
    "    if not post_id:\n",
    "        continue\n",
    "        \n",
    "  # находим анонс текста статьи  \n",
    "    texts = post.find_all('div', class_='post__body post__body_crop')\n",
    "\n",
    "    \n",
    "    for word in texts:\n",
    "            text_lower = word.text.lower()\n",
    "\n",
    "           # ищем вхождение хотя бы одного желаемого слова\n",
    "        \n",
    "                          \n",
    "            for desired in KEYWORDS:\n",
    "                if desired in text_lower:\n",
    "               # пост нам интересен \n",
    "               \n",
    "                    title_element = post.find('a', class_='post__title_link')\n",
    "                    \n",
    "                    date = post.find('span', class_='post__time')\n",
    "                   \n",
    "                    row = {'date': date.text, 'title': title_element.text, 'link': title_element.attrs.get('href')}\n",
    "                    \n",
    "                    habr_articles = pd.concat([habr_articles, pd.DataFrame([row])])  \n",
    "                    \n",
    "\n",
    "            \n",
    "habr_articles"
   ]
  },
  {
   "cell_type": "code",
   "execution_count": null,
   "metadata": {},
   "outputs": [],
   "source": []
  },
  {
   "cell_type": "markdown",
   "metadata": {},
   "source": [
    "# Дополнительная часть"
   ]
  },
  {
   "cell_type": "code",
   "execution_count": 46,
   "metadata": {},
   "outputs": [
    {
     "name": "stderr",
     "output_type": "stream",
     "text": [
      "<ipython-input-46-2fa955520a00>:48: FutureWarning: elementwise comparison failed; returning scalar instead, but in the future will perform elementwise comparison\n",
      "  if title_element.text not in habr_articles.values:\n"
     ]
    },
    {
     "data": {
      "text/html": [
       "<div>\n",
       "<style scoped>\n",
       "    .dataframe tbody tr th:only-of-type {\n",
       "        vertical-align: middle;\n",
       "    }\n",
       "\n",
       "    .dataframe tbody tr th {\n",
       "        vertical-align: top;\n",
       "    }\n",
       "\n",
       "    .dataframe thead th {\n",
       "        text-align: right;\n",
       "    }\n",
       "</style>\n",
       "<table border=\"1\" class=\"dataframe\">\n",
       "  <thead>\n",
       "    <tr style=\"text-align: right;\">\n",
       "      <th></th>\n",
       "      <th>date</th>\n",
       "      <th>title</th>\n",
       "      <th>link</th>\n",
       "      <th>text</th>\n",
       "    </tr>\n",
       "  </thead>\n",
       "  <tbody>\n",
       "    <tr>\n",
       "      <th>0</th>\n",
       "      <td>сегодня в 16:05</td>\n",
       "      <td>Трудности аутстаффинга: борьба с культурными р...</td>\n",
       "      <td>https://habr.com/ru/post/532974/</td>\n",
       "      <td>как избежать недопонимания между сотрудниками ...</td>\n",
       "    </tr>\n",
       "    <tr>\n",
       "      <th>0</th>\n",
       "      <td>сегодня в 14:26</td>\n",
       "      <td>Real Time API в контексте Apache Kafka</td>\n",
       "      <td>https://habr.com/ru/company/otus/blog/532954/</td>\n",
       "      <td>всем привет. уже в декабре в otus стартует нов...</td>\n",
       "    </tr>\n",
       "    <tr>\n",
       "      <th>0</th>\n",
       "      <td>сегодня в 14:03</td>\n",
       "      <td>Быстрый старт: гайд по автоматизированному тес...</td>\n",
       "      <td>https://habr.com/ru/company/redmadrobot/blog/5...</td>\n",
       "      <td>привет! меня зовут сергей иванов, я ведущий ра...</td>\n",
       "    </tr>\n",
       "  </tbody>\n",
       "</table>\n",
       "</div>"
      ],
      "text/plain": [
       "              date                                              title  \\\n",
       "0  сегодня в 16:05  Трудности аутстаффинга: борьба с культурными р...   \n",
       "0  сегодня в 14:26             Real Time API в контексте Apache Kafka   \n",
       "0  сегодня в 14:03  Быстрый старт: гайд по автоматизированному тес...   \n",
       "\n",
       "                                                link  \\\n",
       "0                   https://habr.com/ru/post/532974/   \n",
       "0      https://habr.com/ru/company/otus/blog/532954/   \n",
       "0  https://habr.com/ru/company/redmadrobot/blog/5...   \n",
       "\n",
       "                                                text  \n",
       "0  как избежать недопонимания между сотрудниками ...  \n",
       "0  всем привет. уже в декабре в otus стартует нов...  \n",
       "0  привет! меня зовут сергей иванов, я ведущий ра...  "
      ]
     },
     "execution_count": 46,
     "metadata": {},
     "output_type": "execute_result"
    }
   ],
   "source": [
    "# добавляем извлечение хабов из постов, чтобы отбирать только нужные\n",
    "\n",
    "habr_articles = pd.DataFrame()\n",
    "\n",
    "for post in posts:\n",
    "    post_id = post.parent.attrs.get('id')\n",
    "    \n",
    "   # если идентификатор не найден, это что-то странное, пропускаем\n",
    "    if not post_id:\n",
    "        continue\n",
    "        \n",
    "\n",
    "\n",
    "    texts = post.find_all('div', class_='post__body post__body_crop')\n",
    "\n",
    "    \n",
    "    for word in texts:\n",
    "            text_lower = word.text.lower()\n",
    "           # print(text_lower)\n",
    "           \n",
    "            \n",
    "            title_element = post.find('a', class_='post__title_link')\n",
    "            link = title_element.attrs.get('href')\n",
    "            \n",
    "            # открываем саму статью\n",
    "            link_req = requests.get(link)\n",
    "            link_soup = BeautifulSoup(link_req.text, 'html.parser')\n",
    "         \n",
    "        \n",
    "            link_text = link_soup.find_all('div', class_='post__text post__text_v2')\n",
    "\n",
    "           \n",
    "            \n",
    "            for word in link_text:\n",
    "                text_lower = word.text.lower()\n",
    "               # ищем вхождение хотя бы одного желаемого слова      \n",
    "                          \n",
    "                for desired in KEYWORDS:\n",
    "                    if desired in text_lower:\n",
    "                       # пост нам интересен \n",
    "               \n",
    "                        title_element = post.find('a', class_='post__title_link')\n",
    "                    \n",
    "                        date = post.find('span', class_='post__time')\n",
    "                   \n",
    "                        row = {'date': date.text, 'title': title_element.text, 'link': title_element.attrs.get('href'), 'text': text_lower}\n",
    "                    \n",
    "                        if title_element.text not in habr_articles.values:\n",
    "                            habr_articles = pd.concat([habr_articles, pd.DataFrame([row])])  \n",
    "                    \n",
    "            \n",
    "habr_articles"
   ]
  },
  {
   "cell_type": "code",
   "execution_count": null,
   "metadata": {},
   "outputs": [],
   "source": []
  },
  {
   "cell_type": "markdown",
   "metadata": {},
   "source": [
    "# Задание 2"
   ]
  },
  {
   "cell_type": "code",
   "execution_count": 1,
   "metadata": {},
   "outputs": [],
   "source": [
    "import pandas as pd"
   ]
  },
  {
   "cell_type": "code",
   "execution_count": 2,
   "metadata": {},
   "outputs": [],
   "source": [
    "import requests"
   ]
  },
  {
   "cell_type": "code",
   "execution_count": 3,
   "metadata": {},
   "outputs": [],
   "source": [
    "import json"
   ]
  },
  {
   "cell_type": "code",
   "execution_count": 4,
   "metadata": {},
   "outputs": [],
   "source": [
    "import time"
   ]
  },
  {
   "cell_type": "code",
   "execution_count": 35,
   "metadata": {},
   "outputs": [],
   "source": [
    "URL = 'https://identityprotection.avast.com/v1/web/query/site-breaches/unauthorized-data'"
   ]
  },
  {
   "cell_type": "code",
   "execution_count": 36,
   "metadata": {},
   "outputs": [],
   "source": [
    "EMAIL = ['telukhlarisa@gmail.com', 'telukhlarisa@mail.ru']"
   ]
  },
  {
   "cell_type": "code",
   "execution_count": 37,
   "metadata": {},
   "outputs": [],
   "source": [
    "headers = {\n",
    "    'Vaar-Version': '0',\n",
    "    'Vaar-Header-App-Product': 'hackcheck-web-avast'\n",
    "}"
   ]
  },
  {
   "cell_type": "code",
   "execution_count": 38,
   "metadata": {},
   "outputs": [
    {
     "data": {
      "text/html": [
       "<div>\n",
       "<style scoped>\n",
       "    .dataframe tbody tr th:only-of-type {\n",
       "        vertical-align: middle;\n",
       "    }\n",
       "\n",
       "    .dataframe tbody tr th {\n",
       "        vertical-align: top;\n",
       "    }\n",
       "\n",
       "    .dataframe thead th {\n",
       "        text-align: right;\n",
       "    }\n",
       "</style>\n",
       "<table border=\"1\" class=\"dataframe\">\n",
       "  <thead>\n",
       "    <tr style=\"text-align: right;\">\n",
       "      <th></th>\n",
       "      <th>email</th>\n",
       "      <th>date</th>\n",
       "      <th>site</th>\n",
       "      <th>text</th>\n",
       "    </tr>\n",
       "  </thead>\n",
       "  <tbody>\n",
       "    <tr>\n",
       "      <th>0</th>\n",
       "      <td>telukhlarisa@gmail.com</td>\n",
       "      <td>2018-11-21T00:00:00Z</td>\n",
       "      <td>animoto.com</td>\n",
       "      <td>In July 2018, the online video site Animoto su...</td>\n",
       "    </tr>\n",
       "    <tr>\n",
       "      <th>0</th>\n",
       "      <td>telukhlarisa@gmail.com</td>\n",
       "      <td>2016-10-21T00:00:00Z</td>\n",
       "      <td>linkedin.com</td>\n",
       "      <td>In 2012, online professional networking platfo...</td>\n",
       "    </tr>\n",
       "    <tr>\n",
       "      <th>0</th>\n",
       "      <td>telukhlarisa@gmail.com</td>\n",
       "      <td>2017-04-10T00:00:00Z</td>\n",
       "      <td>google.com/gmail</td>\n",
       "      <td>This collection of compromised Gmail users con...</td>\n",
       "    </tr>\n",
       "    <tr>\n",
       "      <th>0</th>\n",
       "      <td>telukhlarisa@gmail.com</td>\n",
       "      <td>2016-10-21T00:00:00Z</td>\n",
       "      <td>adobe.com</td>\n",
       "      <td>In October of 2013, criminals penetrated Adobe...</td>\n",
       "    </tr>\n",
       "    <tr>\n",
       "      <th>0</th>\n",
       "      <td>telukhlarisa@gmail.com</td>\n",
       "      <td>2019-12-13T00:00:00Z</td>\n",
       "      <td>peopledatalabs.com</td>\n",
       "      <td>In October 2019, a security researcher discove...</td>\n",
       "    </tr>\n",
       "    <tr>\n",
       "      <th>0</th>\n",
       "      <td>telukhlarisa@mail.ru</td>\n",
       "      <td>2020-05-21T00:00:00Z</td>\n",
       "      <td>vk.com</td>\n",
       "      <td>At some time in 2020, the Russian social netwo...</td>\n",
       "    </tr>\n",
       "    <tr>\n",
       "      <th>0</th>\n",
       "      <td>telukhlarisa@mail.ru</td>\n",
       "      <td>2018-12-13T00:00:00Z</td>\n",
       "      <td>houzz.com</td>\n",
       "      <td>In July 2018, the housing site Houzz was alleg...</td>\n",
       "    </tr>\n",
       "    <tr>\n",
       "      <th>0</th>\n",
       "      <td>telukhlarisa@mail.ru</td>\n",
       "      <td>2016-10-25T00:00:00Z</td>\n",
       "      <td>last.fm</td>\n",
       "      <td>In March 2012, the British music streaming ser...</td>\n",
       "    </tr>\n",
       "  </tbody>\n",
       "</table>\n",
       "</div>"
      ],
      "text/plain": [
       "                    email                  date                site  \\\n",
       "0  telukhlarisa@gmail.com  2018-11-21T00:00:00Z         animoto.com   \n",
       "0  telukhlarisa@gmail.com  2016-10-21T00:00:00Z        linkedin.com   \n",
       "0  telukhlarisa@gmail.com  2017-04-10T00:00:00Z    google.com/gmail   \n",
       "0  telukhlarisa@gmail.com  2016-10-21T00:00:00Z           adobe.com   \n",
       "0  telukhlarisa@gmail.com  2019-12-13T00:00:00Z  peopledatalabs.com   \n",
       "0    telukhlarisa@mail.ru  2020-05-21T00:00:00Z              vk.com   \n",
       "0    telukhlarisa@mail.ru  2018-12-13T00:00:00Z           houzz.com   \n",
       "0    telukhlarisa@mail.ru  2016-10-25T00:00:00Z             last.fm   \n",
       "\n",
       "                                                text  \n",
       "0  In July 2018, the online video site Animoto su...  \n",
       "0  In 2012, online professional networking platfo...  \n",
       "0  This collection of compromised Gmail users con...  \n",
       "0  In October of 2013, criminals penetrated Adobe...  \n",
       "0  In October 2019, a security researcher discove...  \n",
       "0  At some time in 2020, the Russian social netwo...  \n",
       "0  In July 2018, the housing site Houzz was alleg...  \n",
       "0  In March 2012, the British music streaming ser...  "
      ]
     },
     "execution_count": 38,
     "metadata": {},
     "output_type": "execute_result"
    }
   ],
   "source": [
    "data_list = pd.DataFrame()\n",
    "\n",
    "for email_address in EMAIL:\n",
    "    req = requests.post(URL, json = {'emailAddresses':[email_address]}, headers = headers)\n",
    "\n",
    "    data = json.loads(req.text)\n",
    "\n",
    "\n",
    "    for item, value in data.items(): \n",
    "        if item == 'breaches':\n",
    "            for i in value.values():\n",
    "                row = {'email': email_address, 'date': i['publishDate'], 'site': i['site'], 'text': i['description']}\n",
    "                data_list = pd.concat([data_list, pd.DataFrame([row])]) \n",
    "        \n",
    "    time.sleep(2)\n",
    "\n",
    "data_list"
   ]
  },
  {
   "cell_type": "code",
   "execution_count": null,
   "metadata": {},
   "outputs": [],
   "source": []
  }
 ],
 "metadata": {
  "kernelspec": {
   "display_name": "Python 3",
   "language": "python",
   "name": "python3"
  },
  "language_info": {
   "codemirror_mode": {
    "name": "ipython",
    "version": 3
   },
   "file_extension": ".py",
   "mimetype": "text/x-python",
   "name": "python",
   "nbconvert_exporter": "python",
   "pygments_lexer": "ipython3",
   "version": "3.8.3"
  }
 },
 "nbformat": 4,
 "nbformat_minor": 4
}
