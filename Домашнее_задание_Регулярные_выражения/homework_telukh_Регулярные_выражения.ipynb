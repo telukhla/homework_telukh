{
 "cells": [
  {
   "cell_type": "markdown",
   "metadata": {},
   "source": [
    "задача на составление акронимов: \n",
    "    брались первые буквы слов и склеивались: \n",
    "        выделяем первую букву в отдельную скобочную группу, все остальное - в другую \n",
    "        ищем и делаем замену только на первую скобочную группу "
   ]
  },
  {
   "cell_type": "markdown",
   "metadata": {},
   "source": [
    "последовательные повторы можно удалять: re.sub(r'(\\d)+', r'\\1', numbers)\n",
    "замена скобочной группы на 1 "
   ]
  },
  {
   "cell_type": "code",
   "execution_count": 1,
   "metadata": {},
   "outputs": [],
   "source": [
    "import re"
   ]
  },
  {
   "cell_type": "code",
   "execution_count": 257,
   "metadata": {},
   "outputs": [],
   "source": [
    "def validation_car_number(car_id):\n",
    "    \"\"\"\n",
    "    функция, которая принимает на вход строку и проверяет является ли она валидным транспортным номером \n",
    "    (1 буква, 3 цифры, 2 буквы, 2-3 цифры). \n",
    "    буквы кириллического алфавита используются в транспортных номерах А, В, Е, К, М, Н, О, Р, С, Т, У\n",
    "    Если номер валиден, то функция должна возвращать отдельно номер и регион.\n",
    "    Примеры работы программы:\n",
    "    car_id = 'A222BC96'\n",
    "    Результат:  Номер A222BС валиден. Регион: 96\n",
    "    car_id = 'АБ22ВВ193'\n",
    "    Результат:  Номер не валиден\n",
    "    \n",
    "    \"\"\"\n",
    "    valid = re.findall(r'([А, В, Е, К, М, Н, О, Р, С, Т, У]){1}(\\d{3})([А, В, Е, К, М, Н, О, Р, С, Т, У]){2}(\\d{2,3})\\b', car_id)\n",
    "    region = re.search(r'([А, В, Е, К, М, Н, О, Р, С, Т, У]){1}(\\d{3})([А, В, Е, К, М, Н, О, Р, С, Т, У]){2}(\\d{2,3})\\b', car_id)\n",
    "    \n",
    "    if valid != []:\n",
    "        print(f'Результат: Номер {car_id} валиден. Регион: {region.group(4)}')\n",
    "    else:\n",
    "        print(f'Результат: Номер не валиден {car_id}')"
   ]
  },
  {
   "cell_type": "code",
   "execution_count": 258,
   "metadata": {},
   "outputs": [
    {
     "data": {
      "text/plain": [
       "[('А', '223', 'К', '194')]"
      ]
     },
     "execution_count": 258,
     "metadata": {},
     "output_type": "execute_result"
    }
   ],
   "source": [
    "car_id = 'А223ВК194'\n",
    "\n",
    "re.findall(r'([А, В, Е, К, М, Н, О, Р, С, Т, У]){1}(\\d{3})([А, В, Е, К, М, Н, О, Р, С, Т, У]){2}(\\d{2,3})\\b', car_id)"
   ]
  },
  {
   "cell_type": "code",
   "execution_count": 259,
   "metadata": {},
   "outputs": [
    {
     "name": "stdout",
     "output_type": "stream",
     "text": [
      "Результат: Номер А222ВС16 валиден. Регион: 16\n"
     ]
    }
   ],
   "source": [
    "car_id = 'А222ВС16'\n",
    "\n",
    "validation_car_number(car_id)"
   ]
  },
  {
   "cell_type": "code",
   "execution_count": 255,
   "metadata": {},
   "outputs": [
    {
     "name": "stdout",
     "output_type": "stream",
     "text": [
      "Результат: Номер не валиден АБ22ВВ193\n"
     ]
    }
   ],
   "source": [
    "car_id = 'АБ22ВВ193'\n",
    "\n",
    "validation_car_number(car_id)"
   ]
  },
  {
   "cell_type": "code",
   "execution_count": null,
   "metadata": {},
   "outputs": [],
   "source": []
  },
  {
   "cell_type": "code",
   "execution_count": 44,
   "metadata": {},
   "outputs": [],
   "source": [
    "some_string = 'Напишите функцию функцию, которая будет будет будет будет удалять все все все все последовательные повторы слов из из из из заданной строки строки при помощи регулярных выражений.'"
   ]
  },
  {
   "cell_type": "code",
   "execution_count": 61,
   "metadata": {},
   "outputs": [],
   "source": [
    "def delete_duplicates(some_string):\n",
    "    print(re.sub(r'(\\w+)(\\s\\1)+', r'\\1', some_string))"
   ]
  },
  {
   "cell_type": "code",
   "execution_count": 62,
   "metadata": {},
   "outputs": [
    {
     "name": "stdout",
     "output_type": "stream",
     "text": [
      "Напишите функцию, которая будет удалять все последовательные повторы слов из заданной строки при помощи регулярных выражений.\n"
     ]
    }
   ],
   "source": [
    "delete_duplicates(some_string)"
   ]
  },
  {
   "cell_type": "code",
   "execution_count": null,
   "metadata": {},
   "outputs": [],
   "source": []
  },
  {
   "cell_type": "code",
   "execution_count": 185,
   "metadata": {},
   "outputs": [],
   "source": [
    "def acronym(some_words):\n",
    "    \n",
    "    some_words += ' '\n",
    "    \n",
    "    abbreviation = re.sub(r'([а-яёА-ЯЁa-zA-z]{1})(\\w+)\\s', r'\\1', some_words)\n",
    "        \n",
    "    print(f'Результат: {abbreviation.upper()}')"
   ]
  },
  {
   "cell_type": "code",
   "execution_count": 186,
   "metadata": {},
   "outputs": [],
   "source": [
    "some_words = 'Информационные технологии'"
   ]
  },
  {
   "cell_type": "code",
   "execution_count": 187,
   "metadata": {},
   "outputs": [
    {
     "name": "stdout",
     "output_type": "stream",
     "text": [
      "Результат: ИТ\n"
     ]
    }
   ],
   "source": [
    "acronym(some_words)"
   ]
  },
  {
   "cell_type": "code",
   "execution_count": 188,
   "metadata": {},
   "outputs": [],
   "source": [
    "some_words = 'Near Field Communication'"
   ]
  },
  {
   "cell_type": "code",
   "execution_count": 189,
   "metadata": {},
   "outputs": [
    {
     "name": "stdout",
     "output_type": "stream",
     "text": [
      "Результат: NFC\n"
     ]
    }
   ],
   "source": [
    "acronym(some_words)"
   ]
  },
  {
   "cell_type": "code",
   "execution_count": null,
   "metadata": {},
   "outputs": [],
   "source": []
  },
  {
   "cell_type": "code",
   "execution_count": 190,
   "metadata": {},
   "outputs": [],
   "source": [
    "emails = ['test@gmail.com', 'xyz@test.in', 'test@ya.ru', 'xyz@mail.ru', 'xyz@ya.ru', 'xyz@gmail.com']"
   ]
  },
  {
   "cell_type": "code",
   "execution_count": 219,
   "metadata": {},
   "outputs": [],
   "source": [
    "email = 'test@gmail.com'"
   ]
  },
  {
   "cell_type": "code",
   "execution_count": 220,
   "metadata": {},
   "outputs": [
    {
     "data": {
      "text/plain": [
       "['@gmail.com']"
      ]
     },
     "execution_count": 220,
     "metadata": {},
     "output_type": "execute_result"
    }
   ],
   "source": [
    "re.findall(r'(?:\\w+)(\\@\\w+\\.\\w+)', email)"
   ]
  },
  {
   "cell_type": "code",
   "execution_count": 221,
   "metadata": {},
   "outputs": [],
   "source": [
    "def domain_calculation(emails):\n",
    "\n",
    "    dict_ = {}\n",
    "\n",
    "    for email in emails:\n",
    "        domain = re.findall(r'(?:\\w+)(\\@\\w+\\.\\w+)', email)\n",
    "    #    print(domain)\n",
    "\n",
    "        if domain[0] in dict_:\n",
    "            dict_[domain[0]] += 1\n",
    "        else:\n",
    "            dict_.setdefault(domain[0], 1)\n",
    "\n",
    "    for key, value in dict_.items():\n",
    "        print(f'{key}: {value}')"
   ]
  },
  {
   "cell_type": "code",
   "execution_count": 222,
   "metadata": {},
   "outputs": [
    {
     "name": "stdout",
     "output_type": "stream",
     "text": [
      "@gmail.com: 2\n",
      "@test.in: 1\n",
      "@ya.ru: 2\n",
      "@mail.ru: 1\n"
     ]
    }
   ],
   "source": [
    "domain_calculation(emails)"
   ]
  },
  {
   "cell_type": "code",
   "execution_count": null,
   "metadata": {},
   "outputs": [],
   "source": []
  },
  {
   "cell_type": "code",
   "execution_count": 260,
   "metadata": {},
   "outputs": [],
   "source": [
    "some_text = 'Эталонной реализацией Python является интерпретатор CPython, поддерживающий большинство активно используемых платформ. Он распространяется под свободной лицензией Python Software Foundation License, позволяющей использовать его без ограничений в любых приложениях, включая проприетарные.'"
   ]
  },
  {
   "cell_type": "code",
   "execution_count": 291,
   "metadata": {},
   "outputs": [],
   "source": [
    "def count_vowels_and_consonants(some_text):\n",
    "    \n",
    "    vowels = 0\n",
    "    consonants = 0\n",
    "    \n",
    "    regex_vowels = r'^[aeiouyауоыиэяюёе].*'\n",
    "    regex_consonants = r'^[bcdfghjklmnpqrstvwxzбвгджзйклмнпрстфхцчшщ].*'\n",
    "    \n",
    "    for word in re.findall(r'\\w+', some_text):\n",
    "        if re.findall(regex_vowels, word.lower()) != []:\n",
    "            vowels += 1\n",
    "        elif re.findall(regex_consonants, word.lower()) != []:\n",
    "            consonants += 1\n",
    "    \n",
    "    print(f'Слов на гласные буквы: {vowels}')\n",
    "    print(f'Слов на согласные буквы: {consonants}')\n",
    "            \n",
    "        "
   ]
  },
  {
   "cell_type": "code",
   "execution_count": 292,
   "metadata": {},
   "outputs": [
    {
     "name": "stdout",
     "output_type": "stream",
     "text": [
      "Слов на гласные буквы: 9\n",
      "Слов на согласные буквы: 21\n"
     ]
    }
   ],
   "source": [
    "count_vowels_and_consonants(some_text)"
   ]
  },
  {
   "cell_type": "code",
   "execution_count": null,
   "metadata": {},
   "outputs": [],
   "source": []
  }
 ],
 "metadata": {
  "kernelspec": {
   "display_name": "Python 3",
   "language": "python",
   "name": "python3"
  },
  "language_info": {
   "codemirror_mode": {
    "name": "ipython",
    "version": 3
   },
   "file_extension": ".py",
   "mimetype": "text/x-python",
   "name": "python",
   "nbconvert_exporter": "python",
   "pygments_lexer": "ipython3",
   "version": "3.8.3"
  }
 },
 "nbformat": 4,
 "nbformat_minor": 4
}
