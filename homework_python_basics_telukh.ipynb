{
 "cells": [
  {
   "cell_type": "code",
   "execution_count": 6,
   "metadata": {},
   "outputs": [
    {
     "name": "stdout",
     "output_type": "stream",
     "text": [
      "phrase_1 = Насколько проще было бы писать программы, если бы не заказчики\n",
      "phrase_2 = Насколько проще было бы писать программы, если бы не заказчики\n",
      "Результат:\n",
      "Фразы равной длины\n"
     ]
    }
   ],
   "source": [
    "phrase_1 = input('phrase_1 = ')\n",
    "phrase_2 = input('phrase_2 = ')\n",
    "\n",
    "print('Результат:')\n",
    "\n",
    "if len(phrase_1) > len(phrase_2):\n",
    "    print ('Фраза 1 длиннее фразы 2')\n",
    "elif len(phrase_1) < len(phrase_2):\n",
    "    print('Фраза 2 длиннее фразы 1')\n",
    "else: \n",
    "    print('Фразы равной длины')"
   ]
  },
  {
   "cell_type": "code",
   "execution_count": 6,
   "metadata": {},
   "outputs": [
    {
     "name": "stdout",
     "output_type": "stream",
     "text": [
      "year = 1600\n",
      "Результат:\n",
      "Високосный год\n"
     ]
    }
   ],
   "source": [
    "year = int(input('year = '))\n",
    "\n",
    "print('Результат:')\n",
    "\n",
    "if (year % 4 == 0) and (year % 100 != 0) or (year % 400 == 0):\n",
    "    print('Високосный год')\n",
    "else:\n",
    "    print('Обычный год')"
   ]
  },
  {
   "cell_type": "code",
   "execution_count": 4,
   "metadata": {},
   "outputs": [
    {
     "name": "stdout",
     "output_type": "stream",
     "text": [
      "Введите день: 12\n",
      "Введите месяц: март\n",
      "Результат: \n",
      "Ваш знак зодиака: Рыбы\n"
     ]
    }
   ],
   "source": [
    "day = int(input('Введите день: ')) \n",
    "\n",
    "if day > 31 or day <= 0:\n",
    "    print ('Неправильно указан день, введите еще раз')\n",
    "    day = int(input('Введите день: ')) \n",
    "\n",
    "month = input('Введите месяц: ')\n",
    "\n",
    "# приводим месяц к нижнему регистру\n",
    "month = month.lower()\n",
    "\n",
    "# преобразуем месяц в int\n",
    "\n",
    "if month == 'январь':\n",
    "    month = 1\n",
    "elif month == 'февраль':\n",
    "    month = 2\n",
    "elif month == 'март':\n",
    "    month = 3\n",
    "elif month == 'апрель':\n",
    "    month = 4\n",
    "elif month == 'май':\n",
    "    month = 5\n",
    "elif month == 'июнь':\n",
    "    month = 6\n",
    "elif month == 'июль':\n",
    "    month = 7\n",
    "elif month == 'август':\n",
    "    month = 8\n",
    "elif month == 'сентябрь':\n",
    "    month = 9\n",
    "elif month == 'октябрь':\n",
    "    month = 10\n",
    "elif month == 'ноябрь':\n",
    "    month = 11\n",
    "elif month == 'декабрь':\n",
    "    month = 12\n",
    "else:\n",
    "    print('Неверно введен месяц')\n",
    "    \n",
    "    \n",
    "print('Результат: ')\n",
    "    \n",
    "# выводим знак зодиака в зависимости от введенной даты\n",
    "\n",
    "if (day>=21 and day<=31 and month == 3) or (day>=1 and day<=20 and month == 4):\n",
    "    print('Ваш знак зодиака: Овен')\n",
    "elif (day>=21 and day<=30 and month == 4) or (day>=1 and day<=21 and month == 5):\n",
    "    print('Ваш знак зодиака: Телец')\n",
    "elif (day>=22 and day<=31 and month == 5) or (day>=1 and day<=21 and month == 6):\n",
    "    print('Ваш знак зодиака: Близнецы')\n",
    "elif (day>=22 and day<=30 and month == 6) or (day>=1 and day<=22 and month == 7):\n",
    "    print('Ваш знак зодиака: Рак')\n",
    "elif (day>=23 and day<=31 and month == 7) or (day>=1 and day<=23 and month == 8):\n",
    "    print('Ваш знак зодиака: Лев')\n",
    "elif (day>=24 and day<=31 and month == 8) or (day>=1 and day<=23 and month == 9):\n",
    "    print('Ваш знак зодиака: Дева')\n",
    "elif (day>=24 and day<=30 and month == 9) or (day>=1 and day<=23 and month == 10):\n",
    "    print('Ваш знак зодиака: Весы')\n",
    "elif (day>=24 and day<=31 and month == 10) or (day>=1 and day<=22 and month == 11):\n",
    "    print('Ваш знак зодиака: Скорпион')\n",
    "elif (day>=23 and day<=30 and month == 11) or (day>=1 and day<=21 and month == 12):\n",
    "    print('Ваш знак зодиака: Стрелец')\n",
    "elif (day>=22 and day<=31 and month == 12) or (day>=1 and day<=20 and month == 1):\n",
    "    print('Ваш знак зодиака: Козерог')\n",
    "elif (day>=21 and day<=31 and month == 1) or (day>=1 and day<=18 and month == 2):\n",
    "    print('Ваш знак зодиака: Водолей')\n",
    "elif (day>=19 and day<=29 and month == 2) or (day>=1 and day<=20 and month == 3):\n",
    "    print('Ваш знак зодиака: Рыбы')\n",
    "else:\n",
    "    print('Вы неверно указали дату')\n",
    "\n"
   ]
  },
  {
   "cell_type": "code",
   "execution_count": 13,
   "metadata": {},
   "outputs": [
    {
     "name": "stdout",
     "output_type": "stream",
     "text": [
      "ширина = 50\n",
      "длина = 50\n",
      "высота = 50\n",
      "Стандартная коробка №3\n"
     ]
    }
   ],
   "source": [
    "width = int(input('ширина = '))\n",
    "length = int(input('длина = '))\n",
    "height = int(input('высота = '))\n",
    "\n",
    "# проверяем размеры\n",
    "\n",
    "if width < 15 and length < 15 and height < 15: \n",
    "    print ('Коробка №1')\n",
    "elif ((15<width<50) or (15<length<50) or (15<height<50)) and (length<200):\n",
    "    print ('Коробка №2')\n",
    "elif length>=200:\n",
    "    print ('Упаковка для лыж')\n",
    "else:\n",
    "    print('Стандартная коробка №3')"
   ]
  },
  {
   "cell_type": "code",
   "execution_count": 19,
   "metadata": {},
   "outputs": [
    {
     "name": "stdout",
     "output_type": "stream",
     "text": [
      "number = 123456\n",
      "Результат: \n",
      "Несчастливый билет\n"
     ]
    }
   ],
   "source": [
    "import sys\n",
    "\n",
    "# вводится номер билета, если неправильно введен, то завершаем программу\n",
    "\n",
    "number =  input('number = ')\n",
    "if len(number) < 6 or len(number) > 6:\n",
    "    print('Неправильно введен номер билета')\n",
    "    sys.exit()\n",
    "\n",
    "number = int(number)\n",
    "\n",
    "# вычисляем цифры в номере билета от 1 до 6\n",
    "temp_1 = number // 1000\n",
    "\n",
    "first = temp_1 // 100\n",
    "second = temp_1 // 10 % 10\n",
    "third = temp_1 % 10\n",
    "\n",
    "temp_2 = number % 1000\n",
    "\n",
    "forth = temp_2 // 100\n",
    "fith = temp_2 // 10 % 10\n",
    "sixth = temp_2 % 10\n",
    "\n",
    "print ('Результат: ')\n",
    "\n",
    "# проверяем, совпадает ли сумма цифр \n",
    "\n",
    "if first + second + third == forth + fith + sixth: \n",
    "    print ('Счастливый билет')\n",
    "else: \n",
    "    print ('Несчастливый билет')"
   ]
  },
  {
   "cell_type": "code",
   "execution_count": 1,
   "metadata": {},
   "outputs": [
    {
     "name": "stdout",
     "output_type": "stream",
     "text": [
      "Введите тип фигуры: круг\n",
      "Введите радиус круга: 45\n",
      "Результат: \n",
      "Площадь круга:  6361.73\n"
     ]
    }
   ],
   "source": [
    "import math\n",
    "\n",
    "shape = input('Введите тип фигуры: ')\n",
    "\n",
    "shape = shape.lower()\n",
    "\n",
    "# в зависимости от типа фигуры, вычисляем ее площадь \n",
    "\n",
    "if shape == 'круг':\n",
    "    radius = int(input('Введите радиус круга: '))\n",
    "    area = math.pi * (radius**2)      \n",
    "    print('Результат: ')\n",
    "    print('Площадь круга: ', round(area, 2))\n",
    "elif shape == 'треугольник':\n",
    "    a = int(input('Введите длину стороны A: '))\n",
    "    b = int(input('Введите длину стороны B: '))\n",
    "    c = int(input('Введите длину стороны C: '))\n",
    "    p = (a + b + c)/ 2\n",
    "    area = math.sqrt(p*(p-a)*(p-b)*(p-c))\n",
    "    print('Результат: ')\n",
    "    print('Площадь треугольника: ', round(area, 2))\n",
    "elif shape == 'прямоугольник':\n",
    "    a = int(input('Введите длину стороны A: '))\n",
    "    b = int(input('Введите длину стороны B: '))\n",
    "    area = a * b\n",
    "    print('Результат: ')\n",
    "    print('Площадь прямоугольника: ', area)\n",
    "else: \n",
    "    print('Неправильно задан тип фигуры')\n",
    "                 "
   ]
  },
  {
   "cell_type": "code",
   "execution_count": null,
   "metadata": {},
   "outputs": [],
   "source": []
  }
 ],
 "metadata": {
  "kernelspec": {
   "display_name": "Python 3",
   "language": "python",
   "name": "python3"
  },
  "language_info": {
   "codemirror_mode": {
    "name": "ipython",
    "version": 3
   },
   "file_extension": ".py",
   "mimetype": "text/x-python",
   "name": "python",
   "nbconvert_exporter": "python",
   "pygments_lexer": "ipython3",
   "version": "3.8.3"
  }
 },
 "nbformat": 4,
 "nbformat_minor": 4
}
