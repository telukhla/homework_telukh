{
 "cells": [
  {
   "cell_type": "code",
   "execution_count": 73,
   "metadata": {},
   "outputs": [
    {
     "name": "stdout",
     "output_type": "stream",
     "text": [
      "le\n"
     ]
    }
   ],
   "source": [
    "word = 'Alex'\n",
    "middle_index = len(word)//2\n",
    "# print(middle_index)\n",
    "\n",
    "if len(word) % 2 != 0:\n",
    "    print(word[middle_index])\n",
    "else:\n",
    "    print(word[middle_index-1:middle_index+1])\n",
    "    "
   ]
  },
  {
   "cell_type": "code",
   "execution_count": 75,
   "metadata": {},
   "outputs": [
    {
     "name": "stdout",
     "output_type": "stream",
     "text": [
      "Введите число: 1\n",
      "Введите число: 0\n",
      "Результат:  1\n"
     ]
    }
   ],
   "source": [
    "user_input = int(input('Введите число: '))\n",
    "input_list = [user_input]\n",
    "\n",
    "while user_input !=0:\n",
    "    user_input = int(input('Введите число: '))\n",
    "    input_list.append(user_input)\n",
    "\n",
    "print('Результат: ', sum(input_list))"
   ]
  },
  {
   "cell_type": "code",
   "execution_count": 3,
   "metadata": {},
   "outputs": [
    {
     "name": "stdout",
     "output_type": "stream",
     "text": [
      "Введите число: 0\n",
      "Результат:  0\n"
     ]
    }
   ],
   "source": [
    "# второй вариант решения задачи\n",
    "\n",
    "input_list = [0]\n",
    "\n",
    "while True:\n",
    "    user_input = int(input('Введите число: '))\n",
    "    input_list.append(user_input)\n",
    "    if user_input ==0: \n",
    "        print('Результат: ', sum(input_list))\n",
    "        break"
   ]
  },
  {
   "cell_type": "code",
   "execution_count": 43,
   "metadata": {},
   "outputs": [
    {
     "name": "stdout",
     "output_type": "stream",
     "text": [
      "Результат:\n",
      "\n",
      "Идеальные пары:\n",
      "Alex  и  Emma\n",
      "Arthur  и  Kate\n",
      "John  и  Kira\n",
      "Max  и  Lena\n",
      "Peter  и  Liza\n",
      "Richard  и  Trisha\n"
     ]
    }
   ],
   "source": [
    "boys = ['Peter', 'Alex', 'John', 'Arthur', 'Richard', 'Max']\n",
    "girls = ['Kate', 'Liza', 'Kira', 'Emma', 'Trisha', 'Lena']\n",
    "print('Результат:')\n",
    "print()\n",
    "\n",
    "if len(boys) == len(girls):\n",
    "    print('Идеальные пары:')\n",
    "    for boy in sorted(boys):\n",
    "        index = sorted(boys).index(boy)\n",
    "        print(boy, ' и ',sorted(girls)[index])\n",
    "else: \n",
    "    print('Внимание, кто-то может остаться без пары!')"
   ]
  },
  {
   "cell_type": "code",
   "execution_count": 5,
   "metadata": {},
   "outputs": [
    {
     "name": "stdout",
     "output_type": "stream",
     "text": [
      "Результат:\n",
      "\n",
      "Идеальные пары:\n",
      "[('Alex', 'Emma'), ('Arthur', 'Kate'), ('John', 'Kira'), ('Max', 'Lena'), ('Peter', 'Liza'), ('Richard', 'Trisha')]\n"
     ]
    }
   ],
   "source": [
    "# второй вариант решения\n",
    "\n",
    "boys = ['Peter', 'Alex', 'John', 'Arthur', 'Richard', 'Max']\n",
    "girls = ['Kate', 'Liza', 'Kira', 'Emma', 'Trisha', 'Lena']\n",
    "print('Результат:')\n",
    "print()\n",
    "\n",
    "if len(boys) == len(girls):\n",
    "    print('Идеальные пары:')\n",
    "    pairs = list(zip(sorted(boys), sorted(girls)))\n",
    "    print(pairs)\n",
    "else: \n",
    "    print('Внимание, кто-то может остаться без пары!')"
   ]
  },
  {
   "cell_type": "code",
   "execution_count": 68,
   "metadata": {},
   "outputs": [
    {
     "name": "stdout",
     "output_type": "stream",
     "text": [
      "Thailand  -  23.9 C\n",
      "Germany  -  13.8 C\n",
      "Russia  -  3.7 C\n",
      "Poland  -  12.0 C\n"
     ]
    }
   ],
   "source": [
    "countries_temperature = [\n",
    "['Thailand', [75.2, 77, 78.8, 73.4, 68, 75.2, 77]],\n",
    "['Germany', [57.2, 55.4, 59, 59, 53.6]],\n",
    "['Russia', [35.6, 37.4, 39.2, 41, 42.8, 39.2, 35.6]],\n",
    "['Poland', [50, 50, 53.6, 57.2, 55.4, 55.4]]\n",
    "]\n",
    "\n",
    "# (Фаренгейт — 32) : 1,8 = Цельсий \n",
    "\n",
    "for country in countries_temperature:\n",
    "    print (country[0], ' - ', round((sum(country[1])/len(country[1]) - 32) / 1.8,1), 'C')\n",
    "    "
   ]
  },
  {
   "cell_type": "code",
   "execution_count": 64,
   "metadata": {},
   "outputs": [],
   "source": [
    "stream = [\n",
    "'2018-01-01,user1,3',\n",
    "'2018-01-07,user1,4',\n",
    "'2018-03-29,user1,1',\n",
    "'2018-04-04,user1,13',\n",
    "'2018-01-05,user2,7',\n",
    "'2018-06-14,user3,4',\n",
    "'2018-07-02,user3,10',\n",
    "'2018-03-21,user4,19',\n",
    "'2018-03-22,user4,4',\n",
    "'2018-04-22,user4,8',\n",
    "'2018-05-03,user4,9',\n",
    "'2018-05-11,user4,11',\n",
    "]"
   ]
  },
  {
   "cell_type": "code",
   "execution_count": null,
   "metadata": {},
   "outputs": [],
   "source": [
    "stream = [\n",
    "'2018-01-01,user100,150',\n",
    "'2018-01-07,user99,205',\n",
    "'2018-03-29,user1001,81'\n",
    "]"
   ]
  },
  {
   "cell_type": "code",
   "execution_count": null,
   "metadata": {},
   "outputs": [],
   "source": [
    "stream2 = []\n",
    "views = 0\n",
    "users = []\n",
    "\n",
    "for log in stream:\n",
    "    stream2.append(log.split(','))\n",
    "\n",
    "    \n",
    "for row in stream2:\n",
    "    user = row[1]\n",
    "    if user not in users:\n",
    "        users.append(user)\n",
    "    views += + int(row[2])\n",
    "\n",
    "print('Результат:')\n",
    "print('Среднее количество просмотров на уникального пользователя ', round(views/len(users),2))\n"
   ]
  },
  {
   "cell_type": "code",
   "execution_count": 7,
   "metadata": {},
   "outputs": [
    {
     "name": "stdout",
     "output_type": "stream",
     "text": [
      "Введите числа, разделенные пробелом 1 1 1 1 1 2 2 2\n",
      "Результат:\n",
      "['1', '2']\n"
     ]
    }
   ],
   "source": [
    "numbers=[]\n",
    "\n",
    "input_string = str(input('Введите числа, разделенные пробелом '))\n",
    "\n",
    "input_list = input_string.split(' ')\n",
    "\n",
    "for number in input_list:\n",
    "    if (input_list.count(number)>1) and (number not in numbers):\n",
    "        numbers.append(number)\n",
    "\n",
    "print('Результат:')\n",
    "print(numbers)"
   ]
  },
  {
   "cell_type": "code",
   "execution_count": null,
   "metadata": {},
   "outputs": [],
   "source": []
  }
 ],
 "metadata": {
  "kernelspec": {
   "display_name": "Python 3",
   "language": "python",
   "name": "python3"
  }
 },
 "nbformat": 4,
 "nbformat_minor": 4
}
